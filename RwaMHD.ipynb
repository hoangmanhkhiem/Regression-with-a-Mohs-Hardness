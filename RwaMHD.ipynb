{
 "cells": [
  {
   "cell_type": "code",
   "execution_count": 95,
   "id": "initial_id",
   "metadata": {
    "ExecuteTime": {
     "end_time": "2023-11-26T17:22:48.693242Z",
     "start_time": "2023-11-26T17:22:48.680285500Z"
    }
   },
   "outputs": [],
   "source": [
    "import numpy as np # linear algebra\n",
    "import pandas as pd # data processing, CSV file I/O (e.g. pd.read_csv)\n",
    "import matplotlib.pyplot as plt\n",
    "import seaborn as sns\n"
   ]
  },
  {
   "cell_type": "markdown",
   "id": "32879d4b3e7e1b6d",
   "metadata": {
    "collapsed": false
   },
   "source": [
    "Import Data Raw"
   ]
  },
  {
   "cell_type": "code",
   "execution_count": 96,
   "id": "554f0cc1d8265188",
   "metadata": {
    "collapsed": false,
    "ExecuteTime": {
     "end_time": "2023-11-26T17:22:49.201587500Z",
     "start_time": "2023-11-26T17:22:49.169569Z"
    }
   },
   "outputs": [],
   "source": [
    "train_dataset = pd.read_csv('train.csv')\n"
   ]
  },
  {
   "cell_type": "code",
   "execution_count": 97,
   "id": "49f79fdb49278577",
   "metadata": {
    "collapsed": false,
    "ExecuteTime": {
     "end_time": "2023-11-26T17:22:49.390932200Z",
     "start_time": "2023-11-26T17:22:49.361032200Z"
    }
   },
   "outputs": [
    {
     "data": {
      "text/plain": "   id  allelectrons_Total  density_Total  allelectrons_Average  val_e_Average  \\\n0   0               100.0       0.841611                  10.0            4.8   \n1   1               100.0       7.558488                  10.0            4.8   \n2   2                76.0       8.885992                  15.6            5.6   \n3   3               100.0       8.795296                  10.0            4.8   \n4   4               116.0       9.577996                  11.6            4.8   \n\n   atomicweight_Average  ionenergy_Average  el_neg_chi_Average  \\\n0             20.612526           11.08810               2.766   \n1             20.298893           12.04083               2.755   \n2             33.739258           12.08630               2.828   \n3             20.213349           10.94850               2.648   \n4             24.988133           11.82448               2.766   \n\n   R_vdw_element_Average  R_cov_element_Average  zaratio_Average  \\\n0                  1.732                  0.860         0.496070   \n1                  1.631                  0.910         0.492719   \n2                  1.788                  0.864         0.481478   \n3                  1.626                  0.936         0.489272   \n4                  1.682                  0.896         0.492736   \n\n   density_Average  Hardness  \n0          0.91457       6.0  \n1          0.71760       6.5  \n2          1.50633       2.5  \n3          0.78937       6.0  \n4          1.86481       6.0  ",
      "text/html": "<div>\n<style scoped>\n    .dataframe tbody tr th:only-of-type {\n        vertical-align: middle;\n    }\n\n    .dataframe tbody tr th {\n        vertical-align: top;\n    }\n\n    .dataframe thead th {\n        text-align: right;\n    }\n</style>\n<table border=\"1\" class=\"dataframe\">\n  <thead>\n    <tr style=\"text-align: right;\">\n      <th></th>\n      <th>id</th>\n      <th>allelectrons_Total</th>\n      <th>density_Total</th>\n      <th>allelectrons_Average</th>\n      <th>val_e_Average</th>\n      <th>atomicweight_Average</th>\n      <th>ionenergy_Average</th>\n      <th>el_neg_chi_Average</th>\n      <th>R_vdw_element_Average</th>\n      <th>R_cov_element_Average</th>\n      <th>zaratio_Average</th>\n      <th>density_Average</th>\n      <th>Hardness</th>\n    </tr>\n  </thead>\n  <tbody>\n    <tr>\n      <th>0</th>\n      <td>0</td>\n      <td>100.0</td>\n      <td>0.841611</td>\n      <td>10.0</td>\n      <td>4.8</td>\n      <td>20.612526</td>\n      <td>11.08810</td>\n      <td>2.766</td>\n      <td>1.732</td>\n      <td>0.860</td>\n      <td>0.496070</td>\n      <td>0.91457</td>\n      <td>6.0</td>\n    </tr>\n    <tr>\n      <th>1</th>\n      <td>1</td>\n      <td>100.0</td>\n      <td>7.558488</td>\n      <td>10.0</td>\n      <td>4.8</td>\n      <td>20.298893</td>\n      <td>12.04083</td>\n      <td>2.755</td>\n      <td>1.631</td>\n      <td>0.910</td>\n      <td>0.492719</td>\n      <td>0.71760</td>\n      <td>6.5</td>\n    </tr>\n    <tr>\n      <th>2</th>\n      <td>2</td>\n      <td>76.0</td>\n      <td>8.885992</td>\n      <td>15.6</td>\n      <td>5.6</td>\n      <td>33.739258</td>\n      <td>12.08630</td>\n      <td>2.828</td>\n      <td>1.788</td>\n      <td>0.864</td>\n      <td>0.481478</td>\n      <td>1.50633</td>\n      <td>2.5</td>\n    </tr>\n    <tr>\n      <th>3</th>\n      <td>3</td>\n      <td>100.0</td>\n      <td>8.795296</td>\n      <td>10.0</td>\n      <td>4.8</td>\n      <td>20.213349</td>\n      <td>10.94850</td>\n      <td>2.648</td>\n      <td>1.626</td>\n      <td>0.936</td>\n      <td>0.489272</td>\n      <td>0.78937</td>\n      <td>6.0</td>\n    </tr>\n    <tr>\n      <th>4</th>\n      <td>4</td>\n      <td>116.0</td>\n      <td>9.577996</td>\n      <td>11.6</td>\n      <td>4.8</td>\n      <td>24.988133</td>\n      <td>11.82448</td>\n      <td>2.766</td>\n      <td>1.682</td>\n      <td>0.896</td>\n      <td>0.492736</td>\n      <td>1.86481</td>\n      <td>6.0</td>\n    </tr>\n  </tbody>\n</table>\n</div>"
     },
     "execution_count": 97,
     "metadata": {},
     "output_type": "execute_result"
    }
   ],
   "source": [
    "train_dataset.head()"
   ]
  },
  {
   "cell_type": "code",
   "execution_count": 98,
   "outputs": [
    {
     "data": {
      "text/plain": "Index(['id', 'allelectrons_Total', 'density_Total', 'allelectrons_Average',\n       'val_e_Average', 'atomicweight_Average', 'ionenergy_Average',\n       'el_neg_chi_Average', 'R_vdw_element_Average', 'R_cov_element_Average',\n       'zaratio_Average', 'density_Average', 'Hardness'],\n      dtype='object')"
     },
     "execution_count": 98,
     "metadata": {},
     "output_type": "execute_result"
    }
   ],
   "source": [
    "train_dataset.columns"
   ],
   "metadata": {
    "collapsed": false,
    "ExecuteTime": {
     "end_time": "2023-11-26T17:22:49.568063800Z",
     "start_time": "2023-11-26T17:22:49.530216300Z"
    }
   },
   "id": "7920b38958daf0c1"
  },
  {
   "cell_type": "code",
   "execution_count": 99,
   "outputs": [],
   "source": [
    "train_dataset = train_dataset.drop(columns=['id'])"
   ],
   "metadata": {
    "collapsed": false,
    "ExecuteTime": {
     "end_time": "2023-11-26T17:22:49.721814800Z",
     "start_time": "2023-11-26T17:22:49.704193100Z"
    }
   },
   "id": "e2ccb3161d040403"
  },
  {
   "cell_type": "code",
   "execution_count": 100,
   "outputs": [
    {
     "data": {
      "text/plain": "   allelectrons_Total  density_Total  allelectrons_Average  val_e_Average  \\\n0               100.0       0.841611                  10.0            4.8   \n1               100.0       7.558488                  10.0            4.8   \n2                76.0       8.885992                  15.6            5.6   \n3               100.0       8.795296                  10.0            4.8   \n4               116.0       9.577996                  11.6            4.8   \n\n   atomicweight_Average  ionenergy_Average  el_neg_chi_Average  \\\n0             20.612526           11.08810               2.766   \n1             20.298893           12.04083               2.755   \n2             33.739258           12.08630               2.828   \n3             20.213349           10.94850               2.648   \n4             24.988133           11.82448               2.766   \n\n   R_vdw_element_Average  R_cov_element_Average  zaratio_Average  \\\n0                  1.732                  0.860         0.496070   \n1                  1.631                  0.910         0.492719   \n2                  1.788                  0.864         0.481478   \n3                  1.626                  0.936         0.489272   \n4                  1.682                  0.896         0.492736   \n\n   density_Average  Hardness  \n0          0.91457       6.0  \n1          0.71760       6.5  \n2          1.50633       2.5  \n3          0.78937       6.0  \n4          1.86481       6.0  ",
      "text/html": "<div>\n<style scoped>\n    .dataframe tbody tr th:only-of-type {\n        vertical-align: middle;\n    }\n\n    .dataframe tbody tr th {\n        vertical-align: top;\n    }\n\n    .dataframe thead th {\n        text-align: right;\n    }\n</style>\n<table border=\"1\" class=\"dataframe\">\n  <thead>\n    <tr style=\"text-align: right;\">\n      <th></th>\n      <th>allelectrons_Total</th>\n      <th>density_Total</th>\n      <th>allelectrons_Average</th>\n      <th>val_e_Average</th>\n      <th>atomicweight_Average</th>\n      <th>ionenergy_Average</th>\n      <th>el_neg_chi_Average</th>\n      <th>R_vdw_element_Average</th>\n      <th>R_cov_element_Average</th>\n      <th>zaratio_Average</th>\n      <th>density_Average</th>\n      <th>Hardness</th>\n    </tr>\n  </thead>\n  <tbody>\n    <tr>\n      <th>0</th>\n      <td>100.0</td>\n      <td>0.841611</td>\n      <td>10.0</td>\n      <td>4.8</td>\n      <td>20.612526</td>\n      <td>11.08810</td>\n      <td>2.766</td>\n      <td>1.732</td>\n      <td>0.860</td>\n      <td>0.496070</td>\n      <td>0.91457</td>\n      <td>6.0</td>\n    </tr>\n    <tr>\n      <th>1</th>\n      <td>100.0</td>\n      <td>7.558488</td>\n      <td>10.0</td>\n      <td>4.8</td>\n      <td>20.298893</td>\n      <td>12.04083</td>\n      <td>2.755</td>\n      <td>1.631</td>\n      <td>0.910</td>\n      <td>0.492719</td>\n      <td>0.71760</td>\n      <td>6.5</td>\n    </tr>\n    <tr>\n      <th>2</th>\n      <td>76.0</td>\n      <td>8.885992</td>\n      <td>15.6</td>\n      <td>5.6</td>\n      <td>33.739258</td>\n      <td>12.08630</td>\n      <td>2.828</td>\n      <td>1.788</td>\n      <td>0.864</td>\n      <td>0.481478</td>\n      <td>1.50633</td>\n      <td>2.5</td>\n    </tr>\n    <tr>\n      <th>3</th>\n      <td>100.0</td>\n      <td>8.795296</td>\n      <td>10.0</td>\n      <td>4.8</td>\n      <td>20.213349</td>\n      <td>10.94850</td>\n      <td>2.648</td>\n      <td>1.626</td>\n      <td>0.936</td>\n      <td>0.489272</td>\n      <td>0.78937</td>\n      <td>6.0</td>\n    </tr>\n    <tr>\n      <th>4</th>\n      <td>116.0</td>\n      <td>9.577996</td>\n      <td>11.6</td>\n      <td>4.8</td>\n      <td>24.988133</td>\n      <td>11.82448</td>\n      <td>2.766</td>\n      <td>1.682</td>\n      <td>0.896</td>\n      <td>0.492736</td>\n      <td>1.86481</td>\n      <td>6.0</td>\n    </tr>\n  </tbody>\n</table>\n</div>"
     },
     "execution_count": 100,
     "metadata": {},
     "output_type": "execute_result"
    }
   ],
   "source": [
    "train_dataset.head()"
   ],
   "metadata": {
    "collapsed": false,
    "ExecuteTime": {
     "end_time": "2023-11-26T17:22:49.928884200Z",
     "start_time": "2023-11-26T17:22:49.891070400Z"
    }
   },
   "id": "c7d59687f76ce807"
  },
  {
   "cell_type": "markdown",
   "source": [
    "Display correlation via HeatMap"
   ],
   "metadata": {
    "collapsed": false
   },
   "id": "8f156ef085570c79"
  },
  {
   "cell_type": "code",
   "execution_count": 101,
   "outputs": [
    {
     "data": {
      "text/plain": "<Figure size 1200x600 with 2 Axes>",
      "image/png": "[encoded data removed]"
     },
     "metadata": {},
     "output_type": "display_data"
    }
   ],
   "source": [
    "plt.figure(figsize=(12, 6))\n",
    "plt.imshow(train_dataset.corr(), cmap='coolwarm', interpolation='none')\n",
    "sns.heatmap(train_dataset.corr(), annot=True, cmap='coolwarm', fmt=\".2f\")\n",
    "plt.show()"
   ],
   "metadata": {
    "collapsed": false,
    "ExecuteTime": {
     "end_time": "2023-11-26T17:22:50.633867500Z",
     "start_time": "2023-11-26T17:22:50.248117500Z"
    }
   },
   "id": "8579b9aff3be53b"
  },
  {
   "cell_type": "markdown",
   "source": [
    "Training Data"
   ],
   "metadata": {
    "collapsed": false
   },
   "id": "ae1d0469c1f3e8a3"
  },
  {
   "cell_type": "code",
   "execution_count": 102,
   "outputs": [
    {
     "data": {
      "text/plain": "'cuda:0'"
     },
     "execution_count": 102,
     "metadata": {},
     "output_type": "execute_result"
    }
   ],
   "source": [
    "import torch\n",
    "import torch.nn as nn\n",
    "device = 'cuda:0' if torch.cuda.is_available() else 'cpu'\n",
    "device"
   ],
   "metadata": {
    "collapsed": false,
    "ExecuteTime": {
     "end_time": "2023-11-26T17:22:50.706517700Z",
     "start_time": "2023-11-26T17:22:50.635860700Z"
    }
   },
   "id": "971299f4cf6dd1bd"
  },
  {
   "cell_type": "code",
   "execution_count": 103,
   "outputs": [],
   "source": [
    "train_dataset = train_dataset.to_numpy()"
   ],
   "metadata": {
    "collapsed": false,
    "ExecuteTime": {
     "end_time": "2023-11-26T17:22:50.805186900Z",
     "start_time": "2023-11-26T17:22:50.792230300Z"
    }
   },
   "id": "ce97066529bf4f59"
  },
  {
   "cell_type": "code",
   "execution_count": 104,
   "outputs": [],
   "source": [
    "X = train_dataset[:,1:]\n",
    "y = train_dataset[:, 0]"
   ],
   "metadata": {
    "collapsed": false,
    "ExecuteTime": {
     "end_time": "2023-11-26T17:22:51.000022500Z",
     "start_time": "2023-11-26T17:22:50.988063Z"
    }
   },
   "id": "5ba5f926ad88fef5"
  },
  {
   "cell_type": "code",
   "execution_count": 105,
   "outputs": [
    {
     "data": {
      "text/plain": "((10407, 11), (10407,))"
     },
     "execution_count": 105,
     "metadata": {},
     "output_type": "execute_result"
    }
   ],
   "source": [
    "X.shape, y.shape"
   ],
   "metadata": {
    "collapsed": false,
    "ExecuteTime": {
     "end_time": "2023-11-26T17:22:51.382472100Z",
     "start_time": "2023-11-26T17:22:51.364531600Z"
    }
   },
   "id": "8c2aca0146636c3e"
  },
  {
   "cell_type": "code",
   "execution_count": 106,
   "outputs": [],
   "source": [
    "train_ratio = 0.95\n",
    "split_index = int(len(X) * train_ratio)\n",
    "X_train, X_val = X[:split_index], X[split_index:]\n",
    "y_train, y_val = y[:split_index], y[split_index:]"
   ],
   "metadata": {
    "collapsed": false,
    "ExecuteTime": {
     "end_time": "2023-11-26T17:22:51.555736400Z",
     "start_time": "2023-11-26T17:22:51.540785700Z"
    }
   },
   "id": "438afb8de764087c"
  },
  {
   "cell_type": "code",
   "execution_count": 107,
   "outputs": [
    {
     "data": {
      "text/plain": "((9886, 11), (9886,), (521, 11), (521,))"
     },
     "execution_count": 107,
     "metadata": {},
     "output_type": "execute_result"
    }
   ],
   "source": [
    "X_train.shape, y_train.shape, X_val.shape, y_val.shape"
   ],
   "metadata": {
    "collapsed": false,
    "ExecuteTime": {
     "end_time": "2023-11-26T17:22:51.741698Z",
     "start_time": "2023-11-26T17:22:51.729737900Z"
    }
   },
   "id": "7719e5a44637b897"
  },
  {
   "cell_type": "code",
   "execution_count": 108,
   "outputs": [],
   "source": [
    "X_train = torch.tensor(X_train).float()\n",
    "X_val = torch.tensor(X_val).float()\n",
    "y_train = torch.tensor(y_train).float()\n",
    "y_val = torch.tensor(y_val).float()"
   ],
   "metadata": {
    "collapsed": false,
    "ExecuteTime": {
     "end_time": "2023-11-26T17:22:51.938717300Z",
     "start_time": "2023-11-26T17:22:51.907592900Z"
    }
   },
   "id": "46c908d0569d2945"
  },
  {
   "cell_type": "code",
   "execution_count": 109,
   "outputs": [
    {
     "data": {
      "text/plain": "(torch.Size([9886, 11]),\n torch.Size([9886]),\n torch.Size([521, 11]),\n torch.Size([521]))"
     },
     "execution_count": 109,
     "metadata": {},
     "output_type": "execute_result"
    }
   ],
   "source": [
    "X_train.shape, y_train.shape, X_val.shape, y_val.shape"
   ],
   "metadata": {
    "collapsed": false,
    "ExecuteTime": {
     "end_time": "2023-11-26T17:22:52.123998Z",
     "start_time": "2023-11-26T17:22:52.097066700Z"
    }
   },
   "id": "c5b44c18c929bdd6"
  },
  {
   "cell_type": "markdown",
   "source": [
    "Create Dataset"
   ],
   "metadata": {
    "collapsed": false
   },
   "id": "4c458f6f0bacbf01"
  },
  {
   "cell_type": "code",
   "execution_count": 110,
   "outputs": [],
   "source": [
    "from torch.utils.data import Dataset\n",
    "\n",
    "class ModDataset(Dataset):\n",
    "    def __init__(self, X, y):\n",
    "        self.X = X\n",
    "        self.y = y\n",
    "\n",
    "    def __len__(self):\n",
    "        return len(self.X)\n",
    "\n",
    "    def __getitem__(self,i):\n",
    "        return self.X[i], self.y[i]\n",
    "\n",
    "\n",
    "train_dataset = ModDataset(X_train, y_train)\n",
    "test_dataset = ModDataset(X_val, y_val)"
   ],
   "metadata": {
    "collapsed": false,
    "ExecuteTime": {
     "end_time": "2023-11-26T17:22:53.040770600Z",
     "start_time": "2023-11-26T17:22:53.022784700Z"
    }
   },
   "id": "f410ecbf2a0c8b2"
  },
  {
   "cell_type": "code",
   "execution_count": 111,
   "outputs": [],
   "source": [
    "from torch.utils.data import DataLoader\n",
    "\n",
    "batch_size = 16\n",
    "train_loader = DataLoader(train_dataset, batch_size = batch_size, shuffle = True)\n",
    "test_loader = DataLoader(test_dataset, batch_size = batch_size, shuffle = False)"
   ],
   "metadata": {
    "collapsed": false,
    "ExecuteTime": {
     "end_time": "2023-11-26T17:22:53.536434400Z",
     "start_time": "2023-11-26T17:22:53.522480Z"
    }
   },
   "id": "675839b63055402"
  },
  {
   "cell_type": "code",
   "execution_count": 112,
   "outputs": [
    {
     "data": {
      "text/plain": "NNModel(\n  (model): Sequential(\n    (0): Linear(in_features=11, out_features=128, bias=True)\n    (1): Linear(in_features=128, out_features=64, bias=True)\n    (2): Linear(in_features=64, out_features=128, bias=True)\n    (3): Linear(in_features=128, out_features=64, bias=True)\n    (4): Linear(in_features=64, out_features=1, bias=True)\n  )\n)"
     },
     "execution_count": 112,
     "metadata": {},
     "output_type": "execute_result"
    }
   ],
   "source": [
    "class NNModel(nn.Module):\n",
    "    def __init__(self):\n",
    "        super().__init__()\n",
    "        self.model = nn.Sequential(\n",
    "            nn.Linear(11, 128),\n",
    "            nn.Linear(128, 64),\n",
    "            nn.Linear(64, 128),\n",
    "            nn.Linear(128, 64),\n",
    "            nn.Linear(64, 1),\n",
    "        )\n",
    "\n",
    "    def forward(self, x):\n",
    "        out = self.model(x)\n",
    "        return out\n",
    "\n",
    "model = NNModel()\n",
    "model.to(device)\n",
    "model"
   ],
   "metadata": {
    "collapsed": false,
    "ExecuteTime": {
     "end_time": "2023-11-26T17:22:53.924409400Z",
     "start_time": "2023-11-26T17:22:53.882944100Z"
    }
   },
   "id": "8082331885feb284"
  },
  {
   "cell_type": "code",
   "execution_count": 113,
   "outputs": [],
   "source": [
    "learning_rate = 0.001\n",
    "num_epochs = 10\n",
    "loss_function = nn.MSELoss()\n",
    "optimizer = torch.optim.Adam(model.parameters(), lr = learning_rate)"
   ],
   "metadata": {
    "collapsed": false,
    "ExecuteTime": {
     "end_time": "2023-11-26T17:22:54.484248100Z",
     "start_time": "2023-11-26T17:22:54.471292900Z"
    }
   },
   "id": "cd9f1d7997c1889e"
  },
  {
   "cell_type": "code",
   "execution_count": 114,
   "outputs": [
    {
     "name": "stdout",
     "output_type": "stream",
     "text": [
      "Epoch: 1\n"
     ]
    },
    {
     "name": "stderr",
     "output_type": "stream",
     "text": [
      "C:\\Users\\admin\\.conda\\envs\\Kaggle\\lib\\site-packages\\torch\\nn\\modules\\loss.py:535: UserWarning: Using a target size (torch.Size([16])) that is different to the input size (torch.Size([16, 1])). This will likely lead to incorrect results due to broadcasting. Please ensure they have the same size.\n",
      "  return F.mse_loss(input, target, reduction=self.reduction)\n"
     ]
    },
    {
     "name": "stdout",
     "output_type": "stream",
     "text": [
      "Batch 100, Loss: 36951.770\n",
      "Batch 200, Loss: 78454.477\n",
      "Batch 300, Loss: 26045.240\n",
      "Batch 400, Loss: 12457.595\n",
      "Batch 500, Loss: 159502.266\n",
      "Batch 600, Loss: 14160.987\n"
     ]
    },
    {
     "name": "stderr",
     "output_type": "stream",
     "text": [
      "C:\\Users\\admin\\.conda\\envs\\Kaggle\\lib\\site-packages\\torch\\nn\\modules\\loss.py:535: UserWarning: Using a target size (torch.Size([14])) that is different to the input size (torch.Size([14, 1])). This will likely lead to incorrect results due to broadcasting. Please ensure they have the same size.\n",
      "  return F.mse_loss(input, target, reduction=self.reduction)\n",
      "C:\\Users\\admin\\.conda\\envs\\Kaggle\\lib\\site-packages\\torch\\nn\\modules\\loss.py:535: UserWarning: Using a target size (torch.Size([9])) that is different to the input size (torch.Size([9, 1])). This will likely lead to incorrect results due to broadcasting. Please ensure they have the same size.\n",
      "  return F.mse_loss(input, target, reduction=self.reduction)\n"
     ]
    },
    {
     "name": "stdout",
     "output_type": "stream",
     "text": [
      "\n",
      "Loss 487.486\n",
      "Loss 561.370\n",
      "Loss 1941.488\n",
      "Loss 2097.134\n",
      "Loss 2389.405\n",
      "Loss 2490.185\n",
      "Loss 2600.385\n",
      "Loss 2641.410\n",
      "Loss 2750.991\n",
      "Loss 2895.116\n",
      "Loss 3033.709\n",
      "Loss 3110.054\n",
      "Loss 3207.082\n",
      "Loss 4630.544\n",
      "Loss 5079.034\n",
      "Loss 5136.864\n",
      "Loss 5441.432\n",
      "Loss 5593.013\n",
      "Loss 5645.185\n",
      "Loss 6034.958\n",
      "Loss 6181.030\n",
      "Loss 6512.659\n",
      "Loss 6750.983\n",
      "Loss 6863.066\n",
      "Loss 6945.382\n",
      "Loss 7087.469\n",
      "Loss 7720.176\n",
      "Loss 7969.796\n",
      "Loss 8157.664\n",
      "Loss 8450.455\n",
      "Loss 8563.041\n",
      "Loss 8929.936\n",
      "Loss 9138.619\n",
      "Epoch: 2\n",
      "Batch 100, Loss: 17659.535\n",
      "Batch 200, Loss: 161339.672\n",
      "Batch 300, Loss: 11866.778\n",
      "Batch 400, Loss: 28336.076\n",
      "Batch 500, Loss: 86696.695\n",
      "Batch 600, Loss: 18772.430\n",
      "\n",
      "Loss 473.808\n",
      "Loss 569.828\n",
      "Loss 1919.733\n",
      "Loss 2074.848\n",
      "Loss 2353.984\n",
      "Loss 2455.311\n",
      "Loss 2574.068\n",
      "Loss 2621.773\n",
      "Loss 2743.049\n",
      "Loss 2902.477\n",
      "Loss 3038.128\n",
      "Loss 3116.963\n",
      "Loss 3210.741\n",
      "Loss 4614.956\n",
      "Loss 5045.153\n",
      "Loss 5107.923\n",
      "Loss 5409.931\n",
      "Loss 5559.876\n",
      "Loss 5623.228\n",
      "Loss 6002.931\n",
      "Loss 6144.627\n",
      "Loss 6475.077\n",
      "Loss 6714.459\n",
      "Loss 6824.785\n",
      "Loss 6920.651\n",
      "Loss 7054.024\n",
      "Loss 7668.190\n",
      "Loss 7904.352\n",
      "Loss 8081.832\n",
      "Loss 8371.660\n",
      "Loss 8481.029\n",
      "Loss 8851.375\n",
      "Loss 9064.953\n",
      "Epoch: 3\n",
      "Batch 100, Loss: 32100.162\n",
      "Batch 200, Loss: 76285.633\n",
      "Batch 300, Loss: 12251.310\n",
      "Batch 400, Loss: 21403.350\n",
      "Batch 500, Loss: 22730.770\n",
      "Batch 600, Loss: 158127.266\n",
      "\n",
      "Loss 469.784\n",
      "Loss 582.838\n",
      "Loss 1941.498\n",
      "Loss 2101.792\n",
      "Loss 2379.060\n",
      "Loss 2488.478\n",
      "Loss 2613.904\n",
      "Loss 2666.268\n",
      "Loss 2794.996\n",
      "Loss 2964.552\n",
      "Loss 3104.574\n",
      "Loss 3188.469\n",
      "Loss 3284.468\n",
      "Loss 4701.841\n",
      "Loss 5122.790\n",
      "Loss 5190.852\n",
      "Loss 5498.850\n",
      "Loss 5655.583\n",
      "Loss 5722.865\n",
      "Loss 6110.540\n",
      "Loss 6279.952\n",
      "Loss 6615.713\n",
      "Loss 6870.448\n",
      "Loss 6985.481\n",
      "Loss 7086.923\n",
      "Loss 7221.830\n",
      "Loss 7867.592\n",
      "Loss 8100.475\n",
      "Loss 8280.521\n",
      "Loss 8573.192\n",
      "Loss 8684.630\n",
      "Loss 9064.167\n",
      "Loss 9282.401\n",
      "Epoch: 4\n",
      "Batch 100, Loss: 171290.453\n",
      "Batch 200, Loss: 21799.990\n",
      "Batch 300, Loss: 79524.883\n",
      "Batch 400, Loss: 19859.664\n",
      "Batch 500, Loss: 12748.482\n",
      "Batch 600, Loss: 17960.338\n",
      "\n",
      "Loss 465.218\n",
      "Loss 582.836\n",
      "Loss 1916.449\n",
      "Loss 2075.223\n",
      "Loss 2347.367\n",
      "Loss 2453.436\n",
      "Loss 2584.380\n",
      "Loss 2642.556\n",
      "Loss 2780.774\n",
      "Loss 2956.535\n",
      "Loss 3094.936\n",
      "Loss 3180.284\n",
      "Loss 3275.987\n",
      "Loss 4665.794\n",
      "Loss 5082.748\n",
      "Loss 5155.548\n",
      "Loss 5458.582\n",
      "Loss 5612.873\n",
      "Loss 5688.634\n",
      "Loss 6064.912\n",
      "Loss 6208.833\n",
      "Loss 6542.626\n",
      "Loss 6787.153\n",
      "Loss 6901.421\n",
      "Loss 7013.227\n",
      "Loss 7144.781\n",
      "Loss 7751.748\n",
      "Loss 7981.284\n",
      "Loss 8156.126\n",
      "Loss 8449.276\n",
      "Loss 8561.812\n",
      "Loss 8939.317\n",
      "Loss 9161.938\n",
      "Epoch: 5\n",
      "Batch 100, Loss: 18299.123\n",
      "Batch 200, Loss: 33927.801\n",
      "Batch 300, Loss: 14003.201\n",
      "Batch 400, Loss: 19991.812\n",
      "Batch 500, Loss: 224423.672\n",
      "Batch 600, Loss: 12489.114\n",
      "\n",
      "Loss 462.638\n",
      "Loss 594.005\n",
      "Loss 1920.503\n",
      "Loss 2083.064\n",
      "Loss 2353.565\n",
      "Loss 2464.019\n",
      "Loss 2603.735\n",
      "Loss 2669.217\n",
      "Loss 2816.704\n",
      "Loss 3002.860\n",
      "Loss 3145.009\n",
      "Loss 3236.157\n",
      "Loss 3334.768\n",
      "Loss 4719.113\n",
      "Loss 5131.002\n",
      "Loss 5211.631\n",
      "Loss 5516.825\n",
      "Loss 5675.159\n",
      "Loss 5760.558\n",
      "Loss 6136.946\n",
      "Loss 6284.682\n",
      "Loss 6622.211\n",
      "Loss 6872.007\n",
      "Loss 6990.166\n",
      "Loss 7112.315\n",
      "Loss 7244.891\n",
      "Loss 7851.191\n",
      "Loss 8078.905\n",
      "Loss 8254.038\n",
      "Loss 8551.245\n",
      "Loss 8666.962\n",
      "Loss 9050.545\n",
      "Loss 9279.526\n",
      "Epoch: 6\n",
      "Batch 100, Loss: 22303.645\n",
      "Batch 200, Loss: 18135.201\n",
      "Batch 300, Loss: 11877.856\n",
      "Batch 400, Loss: 163278.703\n",
      "Batch 500, Loss: 20560.709\n",
      "Batch 600, Loss: 87290.555\n",
      "\n",
      "Loss 465.808\n",
      "Loss 580.371\n",
      "Loss 1915.335\n",
      "Loss 2073.441\n",
      "Loss 2346.369\n",
      "Loss 2451.818\n",
      "Loss 2581.282\n",
      "Loss 2638.023\n",
      "Loss 2772.856\n",
      "Loss 2946.323\n",
      "Loss 3084.482\n",
      "Loss 3168.887\n",
      "Loss 3264.070\n",
      "Loss 4657.376\n",
      "Loss 5075.685\n",
      "Loss 5147.287\n",
      "Loss 5449.621\n",
      "Loss 5603.189\n",
      "Loss 5677.505\n",
      "Loss 6054.177\n",
      "Loss 6198.506\n",
      "Loss 6531.482\n",
      "Loss 6775.530\n",
      "Loss 6888.956\n",
      "Loss 6998.578\n",
      "Loss 7129.904\n",
      "Loss 7738.677\n",
      "Loss 7969.227\n",
      "Loss 8144.161\n",
      "Loss 8436.854\n",
      "Loss 8548.589\n",
      "Loss 8925.157\n",
      "Loss 9145.371\n",
      "Epoch: 7\n",
      "Batch 100, Loss: 18486.934\n",
      "Batch 200, Loss: 19163.857\n",
      "Batch 300, Loss: 76624.586\n",
      "Batch 400, Loss: 28472.170\n",
      "Batch 500, Loss: 20286.977\n",
      "Batch 600, Loss: 161123.000\n",
      "\n",
      "Loss 469.225\n",
      "Loss 574.192\n",
      "Loss 1917.550\n",
      "Loss 2074.060\n",
      "Loss 2350.813\n",
      "Loss 2454.762\n",
      "Loss 2578.365\n",
      "Loss 2629.806\n",
      "Loss 2755.785\n",
      "Loss 2921.756\n",
      "Loss 3059.256\n",
      "Loss 3140.716\n",
      "Loss 3234.866\n",
      "Loss 4639.052\n",
      "Loss 5062.944\n",
      "Loss 5130.213\n",
      "Loss 5432.406\n",
      "Loss 5584.396\n",
      "Loss 5652.232\n",
      "Loss 6031.547\n",
      "Loss 6179.270\n",
      "Loss 6510.527\n",
      "Loss 6753.610\n",
      "Loss 6865.545\n",
      "Loss 6966.652\n",
      "Loss 7098.816\n",
      "Loss 7716.052\n",
      "Loss 7949.943\n",
      "Loss 8126.411\n",
      "Loss 8417.604\n",
      "Loss 8527.674\n",
      "Loss 8901.469\n",
      "Loss 9116.137\n",
      "Epoch: 8\n",
      "Batch 100, Loss: 14804.594\n",
      "Batch 200, Loss: 22252.473\n",
      "Batch 300, Loss: 78430.141\n",
      "Batch 400, Loss: 176214.500\n",
      "Batch 500, Loss: 12010.808\n",
      "Batch 600, Loss: 20242.410\n",
      "\n",
      "Loss 474.488\n",
      "Loss 562.057\n",
      "Loss 1918.192\n",
      "Loss 2072.141\n",
      "Loss 2353.178\n",
      "Loss 2453.629\n",
      "Loss 2569.344\n",
      "Loss 2615.010\n",
      "Loss 2733.490\n",
      "Loss 2887.736\n",
      "Loss 3023.051\n",
      "Loss 3099.453\n",
      "Loss 3192.876\n",
      "Loss 4603.709\n",
      "Loss 5036.167\n",
      "Loss 5095.857\n",
      "Loss 5396.420\n",
      "Loss 5546.137\n",
      "Loss 5603.919\n",
      "Loss 5985.208\n",
      "Loss 6127.094\n",
      "Loss 6456.679\n",
      "Loss 6694.265\n",
      "Loss 6804.460\n",
      "Loss 6896.227\n",
      "Loss 7030.229\n",
      "Loss 7648.284\n",
      "Loss 7887.852\n",
      "Loss 8067.563\n",
      "Loss 8356.800\n",
      "Loss 8466.634\n",
      "Loss 8834.577\n",
      "Loss 9044.867\n",
      "Epoch: 9\n",
      "Batch 100, Loss: 20193.980\n",
      "Batch 200, Loss: 159858.328\n",
      "Batch 300, Loss: 11662.021\n",
      "Batch 400, Loss: 71680.219\n",
      "Batch 500, Loss: 21252.957\n",
      "Batch 600, Loss: 38685.883\n",
      "\n",
      "Loss 467.999\n",
      "Loss 571.126\n",
      "Loss 1913.862\n",
      "Loss 2069.835\n",
      "Loss 2345.342\n",
      "Loss 2448.545\n",
      "Loss 2571.426\n",
      "Loss 2623.067\n",
      "Loss 2751.225\n",
      "Loss 2916.281\n",
      "Loss 3052.448\n",
      "Loss 3132.792\n",
      "Loss 3226.577\n",
      "Loss 4626.248\n",
      "Loss 5049.081\n",
      "Loss 5114.707\n",
      "Loss 5415.690\n",
      "Loss 5567.248\n",
      "Loss 5633.307\n",
      "Loss 6011.460\n",
      "Loss 6155.355\n",
      "Loss 6486.208\n",
      "Loss 6726.968\n",
      "Loss 6838.603\n",
      "Loss 6940.031\n",
      "Loss 7071.418\n",
      "Loss 7683.730\n",
      "Loss 7916.911\n",
      "Loss 8092.969\n",
      "Loss 8383.316\n",
      "Loss 8493.527\n",
      "Loss 8865.816\n",
      "Loss 9081.052\n",
      "Epoch: 10\n",
      "Batch 100, Loss: 154869.219\n",
      "Batch 200, Loss: 19733.795\n",
      "Batch 300, Loss: 15862.854\n",
      "Batch 400, Loss: 12789.420\n",
      "Batch 500, Loss: 97274.297\n",
      "Batch 600, Loss: 23189.271\n",
      "\n",
      "Loss 462.753\n",
      "Loss 585.171\n",
      "Loss 1914.510\n",
      "Loss 2074.886\n",
      "Loss 2345.780\n",
      "Loss 2453.832\n",
      "Loss 2588.688\n",
      "Loss 2650.669\n",
      "Loss 2793.353\n",
      "Loss 2973.463\n",
      "Loss 3113.231\n",
      "Loss 3200.479\n",
      "Loss 3297.195\n",
      "Loss 4685.501\n",
      "Loss 5099.479\n",
      "Loss 5175.325\n",
      "Loss 5478.104\n",
      "Loss 5634.162\n",
      "Loss 5713.384\n",
      "Loss 6089.392\n",
      "Loss 6234.404\n",
      "Loss 6569.167\n",
      "Loss 6815.047\n",
      "Loss 6930.768\n",
      "Loss 7047.692\n",
      "Loss 7178.914\n",
      "Loss 7784.649\n",
      "Loss 8013.656\n",
      "Loss 8188.112\n",
      "Loss 8482.925\n",
      "Loss 8596.712\n",
      "Loss 8976.171\n",
      "Loss 9200.271\n"
     ]
    }
   ],
   "source": [
    "def train_one_epoch():\n",
    "    model.train(True)\n",
    "\n",
    "    print(f'Epoch: {epoch + 1}')\n",
    "    running_loss = 0.0\n",
    "\n",
    "    for batch_index, batch in enumerate(train_loader):\n",
    "        x_batch, y_batch = batch[0].to(device), batch[1].to(device)\n",
    "\n",
    "        output = model(x_batch)\n",
    "        loss = loss_function(output, y_batch)\n",
    "        running_loss += loss\n",
    "\n",
    "        optimizer.zero_grad() \n",
    "        loss.backward()      \n",
    "        optimizer.step() \n",
    "\n",
    "        if batch_index%100 == 99:\n",
    "            avg_loss_across_batches =  running_loss/100\n",
    "            print('Batch {0}, Loss: {1:.3f}'.format(batch_index+1, avg_loss_across_batches))\n",
    "            running_loss =0.0\n",
    "    print()\n",
    "\n",
    "def validate_one_epoch():\n",
    "    model.train(False)\n",
    "    running_loss = 0.0\n",
    "\n",
    "    for batch_index, batch in enumerate(test_loader):\n",
    "        x_batch, y_batch = batch[0].to(device), batch[1].to(device)\n",
    "\n",
    "        with torch.no_grad():\n",
    "            output = model(x_batch)\n",
    "            loss = loss_function(output, y_batch)\n",
    "            running_loss += loss\n",
    "\n",
    "        avg_loss_across_batches =  running_loss/len(test_loader)\n",
    "\n",
    "        print('Loss {0:.3f}'.format(avg_loss_across_batches))\n",
    "\n",
    "for epoch in range(num_epochs):\n",
    "    train_one_epoch()\n",
    "    validate_one_epoch()"
   ],
   "metadata": {
    "collapsed": false,
    "ExecuteTime": {
     "end_time": "2023-11-26T17:23:02.115170500Z",
     "start_time": "2023-11-26T17:22:54.830316500Z"
    }
   },
   "id": "9c25c007067dc237"
  },
  {
   "cell_type": "code",
   "execution_count": 115,
   "outputs": [],
   "source": [
    "sample_submission = pd.read_csv('sample_submission.csv')\n",
    "test_dataset = pd.read_csv('test.csv')"
   ],
   "metadata": {
    "collapsed": false,
    "ExecuteTime": {
     "end_time": "2023-11-26T17:23:31.011206500Z",
     "start_time": "2023-11-26T17:23:30.981747500Z"
    }
   },
   "id": "520aa7ea36d57a6b"
  },
  {
   "cell_type": "code",
   "execution_count": null,
   "outputs": [],
   "source": [
    "from copy import deepcopy as dc\n",
    "test_predictions = model(X_val.to(device)).detach().cpu().numpy().flatten()\n",
    "test_predictions"
   ],
   "metadata": {
    "collapsed": false
   },
   "id": "5ae418d37e79376b"
  },
  {
   "cell_type": "code",
   "execution_count": null,
   "outputs": [],
   "source": [
    "test_dataset = test_dataset.drop(columns=['id'])"
   ],
   "metadata": {
    "collapsed": false
   },
   "id": "1084a9cfc8f7abb2"
  },
  {
   "cell_type": "code",
   "execution_count": null,
   "outputs": [],
   "source": [
    "test_dataset"
   ],
   "metadata": {
    "collapsed": false
   },
   "id": "306c1f6a3d310cbd"
  },
  {
   "cell_type": "code",
   "execution_count": null,
   "outputs": [],
   "source": [
    "test_dataset = test_dataset.to_numpy()"
   ],
   "metadata": {
    "collapsed": false
   },
   "id": "5250b9145a2e8047"
  },
  {
   "cell_type": "code",
   "execution_count": null,
   "outputs": [],
   "source": [
    "test_dataset = torch.tensor(test_dataset).float()\n",
    "test_result =  model(test_dataset.to(device)).detach().cpu().numpy().flatten()\n",
    "test_result"
   ],
   "metadata": {
    "collapsed": false
   },
   "id": "640d6ad389e7e550"
  },
  {
   "cell_type": "code",
   "execution_count": null,
   "outputs": [],
   "source": [
    "sample_submission['Hardness'] = test_result\n",
    "sample_submission.to_csv('submission.csv',index=False)\n",
    "sample_submission"
   ],
   "metadata": {
    "collapsed": false
   },
   "id": "c368709f39b29a29"
  },
  {
   "cell_type": "markdown",
   "source": [],
   "metadata": {
    "collapsed": false
   },
   "id": "c1d15b3060d08200"
  }
 ],
 "metadata": {
  "kernelspec": {
   "display_name": "Python 3 (ipykernel)",
   "language": "python",
   "name": "python3"
  },
  "language_info": {
   "codemirror_mode": {
    "name": "ipython",
    "version": 3
   },
   "file_extension": ".py",
   "mimetype": "text/x-python",
   "name": "python",
   "nbconvert_exporter": "python",
   "pygments_lexer": "ipython3",
   "version": "3.8.18"
  }
 },
 "nbformat": 4,
 "nbformat_minor": 5
}
